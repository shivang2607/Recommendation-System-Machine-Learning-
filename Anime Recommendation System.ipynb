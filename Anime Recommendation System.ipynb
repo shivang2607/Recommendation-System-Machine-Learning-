{
  "cells": [
    {
      "cell_type": "code",
      "execution_count": null,
      "metadata": {
        "id": "eDznOsrC_Lzw"
      },
      "outputs": [],
      "source": [
        "import numpy as np\n",
        "import pandas as pd\n",
        "from sklearn.pipeline import Pipeline\n",
        "from sklearn.compose import ColumnTransformer\n",
        "from sklearn.impute import SimpleImputer\n",
        "from sklearn.preprocessing import OneHotEncoder, OrdinalEncoder, StandardScaler\n",
        "from sklearn.neighbors import NearestNeighbors, KDTree\n",
        "from matplotlib import pyplot as plt\n",
        "from sklearn.feature_extraction.text import CountVectorizer, TfidfVectorizer\n",
        "import joblib"
      ]
    },
    {
      "cell_type": "code",
      "execution_count": null,
      "metadata": {
        "colab": {
          "base_uri": "https://localhost:8080/"
        },
        "id": "zSlvN5R2_r8R",
        "outputId": "9627203c-7300-4962-92fc-028e8360b02e"
      },
      "outputs": [
        {
          "output_type": "stream",
          "name": "stdout",
          "text": [
            "<class 'pandas.core.frame.DataFrame'>\n",
            "RangeIndex: 21460 entries, 0 to 21459\n",
            "Data columns (total 28 columns):\n",
            " #   Column            Non-Null Count  Dtype  \n",
            "---  ------            --------------  -----  \n",
            " 0   ID                21460 non-null  int64  \n",
            " 1   Title             21460 non-null  object \n",
            " 2   Synonyms          21460 non-null  object \n",
            " 3   Japanese          21460 non-null  object \n",
            " 4   English           21460 non-null  object \n",
            " 5   Synopsis          21460 non-null  object \n",
            " 6   Type              21460 non-null  object \n",
            " 7   Episodes          20913 non-null  float64\n",
            " 8   Status            21460 non-null  object \n",
            " 9   Start_Aired       21460 non-null  object \n",
            " 10  End_Aired         21460 non-null  object \n",
            " 11  Premiered         21460 non-null  object \n",
            " 12  Broadcast         21460 non-null  object \n",
            " 13  Producers         21460 non-null  object \n",
            " 14  Licensors         21460 non-null  object \n",
            " 15  Studios           21460 non-null  object \n",
            " 16  Source            21460 non-null  object \n",
            " 17  Genres            21460 non-null  object \n",
            " 18  Themes            21460 non-null  object \n",
            " 19  Demographics      21460 non-null  object \n",
            " 20  Duration_Minutes  20861 non-null  float64\n",
            " 21  Rating            21460 non-null  object \n",
            " 22  Score             14562 non-null  float64\n",
            " 23  Scored_Users      14562 non-null  float64\n",
            " 24  Ranked            19536 non-null  float64\n",
            " 25  Popularity        21460 non-null  int64  \n",
            " 26  Members           21460 non-null  int64  \n",
            " 27  Favorites         21460 non-null  int64  \n",
            "dtypes: float64(5), int64(4), object(19)\n",
            "memory usage: 4.6+ MB\n"
          ]
        },
        {
          "output_type": "execute_result",
          "data": {
            "text/plain": [
              "(Original        7324\n",
              " Manga           4408\n",
              " Unknown         3602\n",
              " Visual novel    1093\n",
              " Game            1059\n",
              " Light novel      898\n",
              " Other            849\n",
              " Novel            634\n",
              " Music            357\n",
              " Web manga        352\n",
              " 4-koma manga     306\n",
              " Picture book     184\n",
              " Book             156\n",
              " Mixed media      111\n",
              " Card game         65\n",
              " Web novel         49\n",
              " Radio             13\n",
              " Name: Source, dtype: int64, None)"
            ]
          },
          "metadata": {},
          "execution_count": 29
        }
      ],
      "source": [
        "anime = pd.read_csv('drive/MyDrive/data/Anime_2022.csv')\n",
        "anime.head(1)\n",
        "animeb = anime[['ID','Title', 'English', 'Type', 'Episodes', 'Start_Aired','Studios', 'Source', 'Genres', 'Themes', 'Demographics', 'Duration_Minutes', 'Rating', 'Score', 'Popularity', 'Favorites']]\n",
        "anime.head(1)\n",
        "# animeb.isna().sum()\n",
        "anime.Source.value_counts(), anime.info()"
      ]
    },
    {
      "cell_type": "code",
      "execution_count": null,
      "metadata": {
        "id": "K8ZqymjbJbiQ"
      },
      "outputs": [],
      "source": [
        "urls = []\n",
        "for id in anime['ID']:\n",
        "    urls.append(f'https://myanimelist.net/anime/{id}')\n",
        "\n",
        "    # NEXT 3 CELLS ARE JUST FOR SCRAPING AND VERIFYING THE IMAGE URLS FROM MYANIMELIST.COM"
      ]
    },
    {
      "cell_type": "code",
      "execution_count": null,
      "metadata": {
        "id": "AB2BtNeZlXhh"
      },
      "outputs": [],
      "source": [
        "# import requests\n",
        "# import concurrent.futures\n",
        "# from bs4 import BeautifulSoup\n",
        "\n",
        "\n",
        "# max_threads = 5\n",
        "\n",
        "# urls = urls[19000:]     #ab 14000 se 15000 krna h and upr se cells ko phirse run krna\n",
        "# Id = []                    # sb phirse krna padega :(\n",
        "# images = []\n",
        "\n",
        "# for url in urls:\n",
        "#     res = requests.get(url)\n",
        "#     soup = BeautifulSoup(res.content, \"html.parser\")\n",
        "#     img = soup.find(id='content').select('img')[0].get('data-src')\n",
        "#     images.append(img)\n",
        "\n",
        "\n",
        "\n",
        "\n",
        "# # with concurrent.futures.ThreadPoolExecutor(max_workers=max_threads) as executor:\n",
        "# #         executor.map(download_url, urls)\n",
        "\n",
        "\n",
        "# urls\n"
      ]
    },
    {
      "cell_type": "code",
      "execution_count": null,
      "metadata": {
        "id": "yD3uXinTRize"
      },
      "outputs": [],
      "source": [
        "\n",
        "# old_img = joblib.load('drive/MyDrive/imagelinks.sav')\n",
        "# images = old_img+images\n",
        "# joblib.dump(images, 'drive/MyDrive/imagelinks.sav')\n",
        "\n",
        "# len(images)\n",
        "\n",
        "# 7 se 8 phir se kr"
      ]
    },
    {
      "cell_type": "code",
      "execution_count": null,
      "metadata": {
        "id": "_Xt0IgoV8vPD",
        "colab": {
          "base_uri": "https://localhost:8080/"
        },
        "outputId": "f83fe286-8c36-4869-a30e-478ad3f2f4e0"
      },
      "outputs": [
        {
          "output_type": "execute_result",
          "data": {
            "text/plain": [
              "21518"
            ]
          },
          "metadata": {},
          "execution_count": 33
        }
      ],
      "source": [
        "# images[20111], anime['ID'][20111]\n",
        "images = joblib.load('drive/MyDrive/imagelinks.sav')\n",
        "anime['Image_link'] = images[:21460]\n",
        "len(images)"
      ]
    },
    {
      "cell_type": "code",
      "source": [
        "animeb.hist(figsize=(10,8))"
      ],
      "metadata": {
        "colab": {
          "base_uri": "https://localhost:8080/",
          "height": 603
        },
        "id": "AFJ6eDR-_--p",
        "outputId": "e600be54-6c7e-4d44-e514-06c672e56f15"
      },
      "execution_count": null,
      "outputs": [
        {
          "output_type": "execute_result",
          "data": {
            "text/plain": [
              "array([[<Axes: title={'center': 'ID'}>,\n",
              "        <Axes: title={'center': 'Episodes'}>],\n",
              "       [<Axes: title={'center': 'Duration_Minutes'}>,\n",
              "        <Axes: title={'center': 'Score'}>],\n",
              "       [<Axes: title={'center': 'Popularity'}>,\n",
              "        <Axes: title={'center': 'Favorites'}>]], dtype=object)"
            ]
          },
          "metadata": {},
          "execution_count": 34
        },
        {
          "output_type": "display_data",
          "data": {
            "text/plain": [
              "<Figure size 720x576 with 6 Axes>"
            ],
            "image/png": "[encoded data removed]"
          },
          "metadata": {
            "needs_background": "light"
          }
        }
      ]
    },
    {
      "cell_type": "code",
      "source": [
        "len(animeb.Studios.value_counts().index.tolist())\n",
        "animeb.Studios.value_counts()[1:26].sum()\n",
        "# animeb.Studios.value_counts()"
      ],
      "metadata": {
        "colab": {
          "base_uri": "https://localhost:8080/"
        },
        "id": "djfymOt5BH41",
        "outputId": "c385aedc-85de-43dd-c78b-3986ede7ca77"
      },
      "execution_count": null,
      "outputs": [
        {
          "output_type": "execute_result",
          "data": {
            "text/plain": [
              "5833"
            ]
          },
          "metadata": {},
          "execution_count": 35
        }
      ]
    },
    {
      "cell_type": "code",
      "source": [
        "animeb['Source'].value_counts()"
      ],
      "metadata": {
        "colab": {
          "base_uri": "https://localhost:8080/"
        },
        "id": "s8idvNP5MYWK",
        "outputId": "fd17ddcb-4a93-454c-f9e0-ce02b4874db1"
      },
      "execution_count": null,
      "outputs": [
        {
          "output_type": "execute_result",
          "data": {
            "text/plain": [
              "Original        7324\n",
              "Manga           4408\n",
              "Unknown         3602\n",
              "Visual novel    1093\n",
              "Game            1059\n",
              "Light novel      898\n",
              "Other            849\n",
              "Novel            634\n",
              "Music            357\n",
              "Web manga        352\n",
              "4-koma manga     306\n",
              "Picture book     184\n",
              "Book             156\n",
              "Mixed media      111\n",
              "Card game         65\n",
              "Web novel         49\n",
              "Radio             13\n",
              "Name: Source, dtype: int64"
            ]
          },
          "metadata": {},
          "execution_count": 36
        }
      ]
    },
    {
      "cell_type": "code",
      "execution_count": null,
      "metadata": {
        "id": "Qh2VLi8fB7DX",
        "colab": {
          "base_uri": "https://localhost:8080/"
        },
        "outputId": "e1beffac-350d-4f75-99d6-9d141d17e4c6"
      },
      "outputs": [
        {
          "output_type": "stream",
          "name": "stderr",
          "text": [
            "<ipython-input-37-08ed6a83d0ce>:4: SettingWithCopyWarning: \n",
            "A value is trying to be set on a copy of a slice from a DataFrame\n",
            "\n",
            "See the caveats in the documentation: https://pandas.pydata.org/pandas-docs/stable/user_guide/indexing.html#returning-a-view-versus-a-copy\n",
            "  animeb.English[anime['English']=='Unknown'] = animeb['Title']\n",
            "<ipython-input-37-08ed6a83d0ce>:5: SettingWithCopyWarning: \n",
            "A value is trying to be set on a copy of a slice from a DataFrame\n",
            "\n",
            "See the caveats in the documentation: https://pandas.pydata.org/pandas-docs/stable/user_guide/indexing.html#returning-a-view-versus-a-copy\n",
            "  anime.English[anime['English']=='Unknown'] = anime['Title']\n",
            "<ipython-input-37-08ed6a83d0ce>:12: SettingWithCopyWarning: \n",
            "A value is trying to be set on a copy of a slice from a DataFrame.\n",
            "Try using .loc[row_indexer,col_indexer] = value instead\n",
            "\n",
            "See the caveats in the documentation: https://pandas.pydata.org/pandas-docs/stable/user_guide/indexing.html#returning-a-view-versus-a-copy\n",
            "  animeb.Type = animeb.Type.replace({'Special':'OVA', 'Unknown':'OVA'})\n",
            "<ipython-input-37-08ed6a83d0ce>:18: SettingWithCopyWarning: \n",
            "A value is trying to be set on a copy of a slice from a DataFrame\n",
            "\n",
            "See the caveats in the documentation: https://pandas.pydata.org/pandas-docs/stable/user_guide/indexing.html#returning-a-view-versus-a-copy\n",
            "  animeb.Episodes.ffill( inplace = True)\n",
            "<ipython-input-37-08ed6a83d0ce>:25: SettingWithCopyWarning: \n",
            "A value is trying to be set on a copy of a slice from a DataFrame.\n",
            "Try using .loc[row_indexer,col_indexer] = value instead\n",
            "\n",
            "See the caveats in the documentation: https://pandas.pydata.org/pandas-docs/stable/user_guide/indexing.html#returning-a-view-versus-a-copy\n",
            "  animeb.Episodes = animeb.Episodes//5 * 5\n",
            "<ipython-input-37-08ed6a83d0ce>:26: SettingWithCopyWarning: \n",
            "A value is trying to be set on a copy of a slice from a DataFrame\n",
            "\n",
            "See the caveats in the documentation: https://pandas.pydata.org/pandas-docs/stable/user_guide/indexing.html#returning-a-view-versus-a-copy\n",
            "  animeb.Episodes[animeb.Episodes>5] = animeb.Episodes//25 * 25\n",
            "<ipython-input-37-08ed6a83d0ce>:26: SettingWithCopyWarning: \n",
            "A value is trying to be set on a copy of a slice from a DataFrame\n",
            "\n",
            "See the caveats in the documentation: https://pandas.pydata.org/pandas-docs/stable/user_guide/indexing.html#returning-a-view-versus-a-copy\n",
            "  animeb.Episodes[animeb.Episodes>5] = animeb.Episodes//25 * 25\n",
            "<ipython-input-37-08ed6a83d0ce>:27: SettingWithCopyWarning: \n",
            "A value is trying to be set on a copy of a slice from a DataFrame\n",
            "\n",
            "See the caveats in the documentation: https://pandas.pydata.org/pandas-docs/stable/user_guide/indexing.html#returning-a-view-versus-a-copy\n",
            "  animeb.Episodes[animeb['Episodes']>=100] = 200\n",
            "<ipython-input-37-08ed6a83d0ce>:27: SettingWithCopyWarning: \n",
            "A value is trying to be set on a copy of a slice from a DataFrame\n",
            "\n",
            "See the caveats in the documentation: https://pandas.pydata.org/pandas-docs/stable/user_guide/indexing.html#returning-a-view-versus-a-copy\n",
            "  animeb.Episodes[animeb['Episodes']>=100] = 200\n",
            "<ipython-input-37-08ed6a83d0ce>:28: SettingWithCopyWarning: \n",
            "A value is trying to be set on a copy of a slice from a DataFrame\n",
            "\n",
            "See the caveats in the documentation: https://pandas.pydata.org/pandas-docs/stable/user_guide/indexing.html#returning-a-view-versus-a-copy\n",
            "  animeb.Episodes.replace({0:'Very Short', 5:'Short', 25:'Normal', 50:'Long', 75:'Very Long', 200:'Huge'}, inplace=True)        # 0, 5, 25, 50, 75, 200\n",
            "<ipython-input-37-08ed6a83d0ce>:35: SettingWithCopyWarning: \n",
            "A value is trying to be set on a copy of a slice from a DataFrame\n",
            "\n",
            "See the caveats in the documentation: https://pandas.pydata.org/pandas-docs/stable/user_guide/indexing.html#returning-a-view-versus-a-copy\n",
            "  animeb.Studios[animeb['Studios'].isin(top_25)==False] = 'Others'\n",
            "<ipython-input-37-08ed6a83d0ce>:35: SettingWithCopyWarning: \n",
            "A value is trying to be set on a copy of a slice from a DataFrame\n",
            "\n",
            "See the caveats in the documentation: https://pandas.pydata.org/pandas-docs/stable/user_guide/indexing.html#returning-a-view-versus-a-copy\n",
            "  animeb.Studios[animeb['Studios'].isin(top_25)==False] = 'Others'\n",
            "<ipython-input-37-08ed6a83d0ce>:42: SettingWithCopyWarning: \n",
            "A value is trying to be set on a copy of a slice from a DataFrame\n",
            "\n",
            "See the caveats in the documentation: https://pandas.pydata.org/pandas-docs/stable/user_guide/indexing.html#returning-a-view-versus-a-copy\n",
            "  animeb.Source[animeb.Source.isin(top_7)==False] = 'UnK'\n",
            "<ipython-input-37-08ed6a83d0ce>:48: SettingWithCopyWarning: \n",
            "A value is trying to be set on a copy of a slice from a DataFrame\n",
            "\n",
            "See the caveats in the documentation: https://pandas.pydata.org/pandas-docs/stable/user_guide/indexing.html#returning-a-view-versus-a-copy\n",
            "  animeb.Start_Aired[animeb['Start_Aired'].str[-2:].astype(int)>25] = '2005'\n",
            "<ipython-input-37-08ed6a83d0ce>:49: SettingWithCopyWarning: \n",
            "A value is trying to be set on a copy of a slice from a DataFrame\n",
            "\n",
            "See the caveats in the documentation: https://pandas.pydata.org/pandas-docs/stable/user_guide/indexing.html#returning-a-view-versus-a-copy\n",
            "  animeb.Start_Aired[animeb['Start_Aired'].str[-2:].astype(int)<=5] = '2005'\n",
            "<ipython-input-37-08ed6a83d0ce>:50: SettingWithCopyWarning: \n",
            "A value is trying to be set on a copy of a slice from a DataFrame\n",
            "\n",
            "See the caveats in the documentation: https://pandas.pydata.org/pandas-docs/stable/user_guide/indexing.html#returning-a-view-versus-a-copy\n",
            "  animeb.Start_Aired[(animeb['Start_Aired'].str[-2:].astype(int)<=15) & (animeb['Start_Aired'].str[-2:].astype(int)>5)] = '2015'\n",
            "<ipython-input-37-08ed6a83d0ce>:51: SettingWithCopyWarning: \n",
            "A value is trying to be set on a copy of a slice from a DataFrame\n",
            "\n",
            "See the caveats in the documentation: https://pandas.pydata.org/pandas-docs/stable/user_guide/indexing.html#returning-a-view-versus-a-copy\n",
            "  animeb.Start_Aired[animeb['Start_Aired'].str[-2:].astype(int)>15] = '2020'\n"
          ]
        }
      ],
      "source": [
        "#NOW WE ARE REPLACING UNKNOWN VALAUES IN 'ENGLISH' WITH THIER CORRESPONDING TITLES\n",
        "animeb['Studios'].value_counts()[:20].sum()\n",
        "(animeb['Title']=='Unknown').value_counts()\n",
        "animeb.English[anime['English']=='Unknown'] = animeb['Title']\n",
        "anime.English[anime['English']=='Unknown'] = anime['Title']\n",
        "\n",
        "#Since we dont want the music type of anime, we shall remove those records\n",
        "animeb = animeb[animeb.Type!='Music']\n",
        "\n",
        "#We also have some records which areof 'Type' special, OVA, ONA, or UNKNOWN, I am replacing all such categories\n",
        "#with OVA only.\n",
        "animeb.Type = animeb.Type.replace({'Special':'OVA', 'Unknown':'OVA'})\n",
        "anime.Type = anime.Type.replace({'Unknown':'OVA'})\n",
        "anime = anime[anime.Type!='Music']\n",
        "\n",
        "# To fill the NaN values of episode I have used forward fill strategy, which replaces all NaN values\n",
        "# with the previous not NaN values of the column\n",
        "animeb.Episodes.ffill( inplace = True)\n",
        "\n",
        "\n",
        "# since duration of anime series and movies varies drastically in our records I though that we should consider no. of\n",
        "# episodes as one of the feature, below i have converted episodes into 6 categories:\n",
        "# very short, short, normal, long, very long, and Huge.\n",
        "anime.Episodes.value_counts()[:100]\n",
        "animeb.Episodes = animeb.Episodes//5 * 5\n",
        "animeb.Episodes[animeb.Episodes>5] = animeb.Episodes//25 * 25\n",
        "animeb.Episodes[animeb['Episodes']>=100] = 200\n",
        "animeb.Episodes.replace({0:'Very Short', 5:'Short', 25:'Normal', 50:'Long', 75:'Very Long', 200:'Huge'}, inplace=True)        # 0, 5, 25, 50, 75, 200\n",
        "\n",
        "\n",
        "# As an Anime head I know that studios can be one of the crucial factors in recommending similar anime.\n",
        "# Below\n",
        "top_25 = animeb['Studios'].value_counts()[1:26].index.tolist()\n",
        "top_25\n",
        "animeb.Studios[animeb['Studios'].isin(top_25)==False] = 'Others'\n",
        "animeb['Studios'].iloc[2000:2500].tolist()\n",
        "animeb.head(3)\n",
        "\n",
        "\n",
        "animeb.Source[animeb.Source=='Others'] = 'Other'\n",
        "top_7 = animeb.Source.value_counts()[:7].index.tolist()\n",
        "animeb.Source[animeb.Source.isin(top_7)==False] = 'UnK'\n",
        "animeb.head(1)\n",
        "\n",
        "# Here I am dividing the animes in three categories (retro, New, Recent) according to their 'Start_Aired' values\n",
        "animeb.Start_Aired[animeb['Start_Aired']=='Unknown'] = '2000'\n",
        "animeb['Start_Aired'].value_counts()\n",
        "animeb.Start_Aired[animeb['Start_Aired'].str[-2:].astype(int)>25] = '2005'\n",
        "animeb.Start_Aired[animeb['Start_Aired'].str[-2:].astype(int)<=5] = '2005'\n",
        "animeb.Start_Aired[(animeb['Start_Aired'].str[-2:].astype(int)<=15) & (animeb['Start_Aired'].str[-2:].astype(int)>5)] = '2015'\n",
        "animeb.Start_Aired[animeb['Start_Aired'].str[-2:].astype(int)>15] = '2020'\n"
      ]
    },
    {
      "cell_type": "code",
      "execution_count": null,
      "metadata": {
        "colab": {
          "base_uri": "https://localhost:8080/"
        },
        "id": "LAJ4XSUTLopG",
        "outputId": "8ce01f4f-59fc-4079-d680-24b5fd93f12e"
      },
      "outputs": [
        {
          "output_type": "stream",
          "name": "stdout",
          "text": [
            "PG-13 - Teens 13 or older         7192\n",
            "G - All Ages                      5375\n",
            "PG - Children                     2555\n",
            "Rx - Hentai                       1441\n",
            "R - 17+ (violence & profanity)    1321\n",
            "R+ - Mild Nudity                  1006\n",
            "None                               542\n",
            "Name: Rating, dtype: int64\n",
            "\n",
            "\n",
            "OVA      6449\n",
            "TV       6280\n",
            "Movie    3900\n",
            "ONA      2803\n",
            "Name: Type, dtype: int64\n",
            "\n",
            "\n",
            "Very Short    15110\n",
            "Normal         1886\n",
            "Long           1021\n",
            "Short           917\n",
            "Huge            371\n",
            "Very Long       127\n",
            "Name: Episodes, dtype: int64\n",
            "\n",
            "\n",
            "Retro     7070\n",
            "New       6522\n",
            "Recent    5840\n",
            "Name: Start_Aired, dtype: int64\n",
            "\n",
            "\n",
            "Others                            13676\n",
            "Toei Animation                      809\n",
            "Sunrise                             507\n",
            "J.C.Staff                           375\n",
            "Shanghai Animation Film Studio      324\n",
            "Madhouse                            320\n",
            "TMS Entertainment                   308\n",
            "Studio Deen                         276\n",
            "Production I.G                      254\n",
            "Pierrot                             245\n",
            "OLM                                 240\n",
            "A-1 Pictures                        208\n",
            "Nippon Animation                    207\n",
            "Shin-Ei Animation                   196\n",
            "DLE                                 177\n",
            "AIC                                 149\n",
            "Tatsunoko Production                148\n",
            "Bones                               136\n",
            "T-Rex                               125\n",
            "Xebec                               121\n",
            "Gonzo                               119\n",
            "Kyoto Animation                     116\n",
            "Shaft                               115\n",
            "SILVER LINK.                        100\n",
            "Doga Kobo                            91\n",
            "Brain's Base                         90\n",
            "Name: Studios, dtype: int64\n",
            "\n",
            "\n",
            "Original        5950\n",
            "Unknown         5340\n",
            "Manga           4372\n",
            "Visual novel    1088\n",
            "Game             993\n",
            "Light novel      897\n",
            "Other            792\n",
            "Name: Source, dtype: int64\n"
          ]
        },
        {
          "output_type": "stream",
          "name": "stderr",
          "text": [
            "<ipython-input-38-5f4da8a8d3ec>:3: SettingWithCopyWarning: \n",
            "A value is trying to be set on a copy of a slice from a DataFrame\n",
            "\n",
            "See the caveats in the documentation: https://pandas.pydata.org/pandas-docs/stable/user_guide/indexing.html#returning-a-view-versus-a-copy\n",
            "  animeb.Source[animeb['Source']=='UnK']='Unknown'\n"
          ]
        }
      ],
      "source": [
        "animeb.Start_Aired.replace({'2005':'Retro', '2015':'New', '2020':'Recent'}, inplace = True)\n",
        "# animeb.Start_Aired.value_counts()\n",
        "animeb.Source[animeb['Source']=='UnK']='Unknown'\n",
        "# animeb.Source.value_counts()\n",
        "\n",
        "\n",
        "\n",
        "animeb = animeb.drop('Demographics', axis = 1)\n",
        "rating_counts = animeb.Rating.value_counts()\n",
        "type_counts = animeb.Type.value_counts()\n",
        "episodes_counts = animeb.Episodes.value_counts()\n",
        "start_aired_counts = animeb.Start_Aired.value_counts()\n",
        "studio_counts = animeb.Studios.value_counts()\n",
        "source_counts = animeb.Source.value_counts()\n",
        "# demographics_counts = animeb.Demographics.value_counts()\n",
        "\n",
        "def print_all_value_counts():\n",
        "    print(rating_counts, type_counts, episodes_counts, start_aired_counts, studio_counts, source_counts,  sep='\\n\\n\\n')\n",
        "\n",
        "print_all_value_counts()\n",
        "# animeb.loc[11242]"
      ]
    },
    {
      "cell_type": "code",
      "execution_count": null,
      "metadata": {
        "colab": {
          "base_uri": "https://localhost:8080/"
        },
        "id": "jGuPIkym1lhE",
        "outputId": "f6e1148a-5187-47c2-d9f6-ea8950954ba0"
      },
      "outputs": [
        {
          "output_type": "stream",
          "name": "stdout",
          "text": [
            "<class 'pandas.core.frame.DataFrame'>\n",
            "Int64Index: 19432 entries, 0 to 21459\n",
            "Data columns (total 15 columns):\n",
            " #   Column            Non-Null Count  Dtype  \n",
            "---  ------            --------------  -----  \n",
            " 0   ID                19432 non-null  int64  \n",
            " 1   Title             19432 non-null  object \n",
            " 2   English_Title     19432 non-null  object \n",
            " 3   Type              19432 non-null  object \n",
            " 4   Episodes          19432 non-null  object \n",
            " 5   Start_Aired       19432 non-null  object \n",
            " 6   Studios           19432 non-null  object \n",
            " 7   Source            19432 non-null  object \n",
            " 8   Genres            19432 non-null  object \n",
            " 9   Themes            19432 non-null  object \n",
            " 10  Duration_Minutes  18837 non-null  float64\n",
            " 11  Rating            19432 non-null  object \n",
            " 12  Score             13363 non-null  float64\n",
            " 13  Popularity        19432 non-null  int64  \n",
            " 14  Favorites         19432 non-null  int64  \n",
            "dtypes: float64(2), int64(3), object(10)\n",
            "memory usage: 2.4+ MB\n"
          ]
        }
      ],
      "source": [
        "animeb.rename({'English':'English_Title' }, axis =1, inplace = True)\n",
        "animeb.info()"
      ]
    },
    {
      "cell_type": "code",
      "execution_count": null,
      "metadata": {
        "id": "hRzqqYfSGnH3"
      },
      "outputs": [],
      "source": [
        "# Genres and Themes are most import features so\n",
        "\n",
        "animeb.Genres.replace({'Unknown':'Unk_Genre'}, inplace=True)\n",
        "animeb.Themes.replace({'Unknown':'Unk_Theme'}, inplace=True)\n",
        "\n",
        "\n",
        "animeb.Genres = [[val.strip() for val in sublist] for sublist in animeb['Genres'].str.split(',')]\n",
        "animeb.Themes = [[val.strip() for val in sublist] for sublist in animeb.Themes.str.split(',')]\n",
        "\n",
        "gen = animeb.Genres.explode().value_counts()\n",
        "themes = animeb.Themes.explode().value_counts()"
      ]
    },
    {
      "cell_type": "code",
      "execution_count": null,
      "metadata": {
        "colab": {
          "base_uri": "https://localhost:8080/"
        },
        "id": "36QlgwklYbo3",
        "outputId": "0535265e-7170-42e0-90c7-b5c2ecf042f6"
      },
      "outputs": [
        {
          "output_type": "stream",
          "name": "stdout",
          "text": [
            "Comedy           6630\n",
            "Action           4295\n",
            "Fantasy          4126\n",
            "Adventure        3430\n",
            "Sci-Fi           2804\n",
            "Drama            2704\n",
            "Unk_Genre        2166\n",
            "Slice of Life    1934\n",
            "Romance          1923\n",
            "Supernatural     1525\n",
            "Hentai           1452\n",
            "Ecchi             775\n",
            "Mystery           772\n",
            "Sports            705\n",
            "Avant Garde       520\n",
            "Horror            489\n",
            "Suspense          183\n",
            "Boys Love         156\n",
            "Gourmet           115\n",
            "Girls Love        103\n",
            "Erotica            41\n",
            "Award Winning      14\n",
            "Name: Genres, dtype: int64\n",
            "Unk_Theme            9620\n",
            "School               1769\n",
            "Historical           1345\n",
            "Mecha                1187\n",
            "Music                 883\n",
            "Parody                683\n",
            "Military              635\n",
            "Super Power           601\n",
            "Mythology             553\n",
            "Martial Arts          521\n",
            "Space                 490\n",
            "Harem                 380\n",
            "Psychological         372\n",
            "Anthropomorphic       341\n",
            "Adult Cast            307\n",
            "Strategy Game         297\n",
            "Team Sports           289\n",
            "Detective             258\n",
            "Isekai                232\n",
            "Educational           217\n",
            "Mahou Shoujo          212\n",
            "Gag Humor             209\n",
            "Samurai               206\n",
            "Iyashikei             181\n",
            "Idols (Female)        177\n",
            "Racing                172\n",
            "CGDCT                 169\n",
            "Vampire               144\n",
            "Workplace             128\n",
            "Video Game            125\n",
            "Gore                  123\n",
            "Time Travel           116\n",
            "Combat Sports          87\n",
            "Idols (Male)           82\n",
            "Pets                   81\n",
            "Performing Arts        76\n",
            "Reincarnation          74\n",
            "Visual Arts            73\n",
            "Love Polygon           70\n",
            "Otaku Culture          63\n",
            "Reverse Harem          59\n",
            "Organized Crime        54\n",
            "Survival               54\n",
            "Childcare              51\n",
            "Delinquents            45\n",
            "Romantic Subtext       39\n",
            "Medical                36\n",
            "High Stakes Game       36\n",
            "Crossdressing          33\n",
            "Showbiz                25\n",
            "Magical Sex Shift      24\n",
            "Name: Themes, dtype: int64\n"
          ]
        }
      ],
      "source": [
        "print(gen, themes, sep='\\n')\n",
        "# gen.shape+themes.shape\n"
      ]
    },
    {
      "cell_type": "code",
      "execution_count": null,
      "metadata": {
        "colab": {
          "base_uri": "https://localhost:8080/"
        },
        "id": "H1uJsDQIPQNs",
        "outputId": "6c4c5a4e-392e-4bee-95c4-9390bb5bfab7"
      },
      "outputs": [
        {
          "output_type": "execute_result",
          "data": {
            "text/plain": [
              "(19432, 73)"
            ]
          },
          "metadata": {},
          "execution_count": 42
        }
      ],
      "source": [
        "\n",
        "TfidfVectorizer(analyzer=set).fit_transform(animeb.Genres+animeb.Themes).toarray().shape"
      ]
    },
    {
      "cell_type": "code",
      "execution_count": null,
      "metadata": {
        "id": "ReicFuLGTN0j"
      },
      "outputs": [],
      "source": [
        "animeb['Genre_Themes'] = animeb.Genres+animeb.Themes\n",
        "# cv = CountVectorizer(analyzer = set)\n",
        "# cv.fit_transform(animeb['Genre_Themes'])\n",
        "animeb.drop(['Genres', 'Themes'], axis = 1, inplace=True)\n"
      ]
    },
    {
      "cell_type": "code",
      "source": [
        "animeb['Rating'].value_counts()"
      ],
      "metadata": {
        "colab": {
          "base_uri": "https://localhost:8080/"
        },
        "id": "Auyr4hprgfoh",
        "outputId": "145ec38b-3909-41bb-dd60-16017f69514c"
      },
      "execution_count": null,
      "outputs": [
        {
          "output_type": "execute_result",
          "data": {
            "text/plain": [
              "PG-13 - Teens 13 or older         7192\n",
              "G - All Ages                      5375\n",
              "PG - Children                     2555\n",
              "Rx - Hentai                       1441\n",
              "R - 17+ (violence & profanity)    1321\n",
              "R+ - Mild Nudity                  1006\n",
              "None                               542\n",
              "Name: Rating, dtype: int64"
            ]
          },
          "metadata": {},
          "execution_count": 44
        }
      ]
    },
    {
      "cell_type": "code",
      "execution_count": null,
      "metadata": {
        "id": "W2IC-6jyZMg-"
      },
      "outputs": [],
      "source": [
        "s = animeb.Genre_Themes.explode()\n",
        "# animeb.join(pd.crosstab(s.index, s)).info()\n"
      ]
    },
    {
      "cell_type": "code",
      "execution_count": null,
      "metadata": {
        "colab": {
          "base_uri": "https://localhost:8080/",
          "height": 565
        },
        "id": "0VAdaXa-Wv3Y",
        "outputId": "280f1591-4a0c-41ca-8f74-b7cee797386d"
      },
      "outputs": [
        {
          "output_type": "execute_result",
          "data": {
            "text/plain": [
              "      ID                             Title                    English_Title  \\\n",
              "0  16498                Shingeki no Kyojin                  Attack on Titan   \n",
              "1   1535                        Death Note                       Death Note   \n",
              "2   5114  Fullmetal Alchemist: Brotherhood  Fullmetal Alchemist Brotherhood   \n",
              "3  30276                     One Punch Man                    One Punch Man   \n",
              "4  11757                  Sword Art Online                 Sword Art Online   \n",
              "\n",
              "  Type    Episodes Start_Aired       Studios       Source  Duration_Minutes  \\\n",
              "0   TV      Normal         New        Others        Manga              24.0   \n",
              "1   TV      Normal         New      Madhouse        Manga              23.0   \n",
              "2   TV        Long         New         Bones        Manga              24.0   \n",
              "3   TV  Very Short         New      Madhouse      Unknown              24.0   \n",
              "4   TV      Normal         New  A-1 Pictures  Light novel              23.0   \n",
              "\n",
              "                           Rating  Score  Popularity  Favorites  \\\n",
              "0  R - 17+ (violence & profanity)  8.531           1     155695   \n",
              "1  R - 17+ (violence & profanity)  8.621           2     159701   \n",
              "2  R - 17+ (violence & profanity)  9.131           3     207772   \n",
              "3  R - 17+ (violence & profanity)  8.511           4      59651   \n",
              "4       PG-13 - Teens 13 or older  7.201           5      64997   \n",
              "\n",
              "                                        Genre_Themes  \n",
              "0          [Action, Drama, Gore, Military, Survival]  \n",
              "1  [Supernatural, Suspense, Mystery, Psychologica...  \n",
              "2      [Action, Adventure, Drama, Fantasy, Military]  \n",
              "3              [Action, Comedy, Parody, Super Power]  \n",
              "4  [Action, Adventure, Fantasy, Romance, Love Pol...  "
            ],
            "text/html": [
              "\n",
              "  <div id=\"df-011a058d-43fe-445d-85f2-ea726149f15a\">\n",
              "    <div class=\"colab-df-container\">\n",
              "      <div>\n",
              "<style scoped>\n",
              "    .dataframe tbody tr th:only-of-type {\n",
              "        vertical-align: middle;\n",
              "    }\n",
              "\n",
              "    .dataframe tbody tr th {\n",
              "        vertical-align: top;\n",
              "    }\n",
              "\n",
              "    .dataframe thead th {\n",
              "        text-align: right;\n",
              "    }\n",
              "</style>\n",
              "<table border=\"1\" class=\"dataframe\">\n",
              "  <thead>\n",
              "    <tr style=\"text-align: right;\">\n",
              "      <th></th>\n",
              "      <th>ID</th>\n",
              "      <th>Title</th>\n",
              "      <th>English_Title</th>\n",
              "      <th>Type</th>\n",
              "      <th>Episodes</th>\n",
              "      <th>Start_Aired</th>\n",
              "      <th>Studios</th>\n",
              "      <th>Source</th>\n",
              "      <th>Duration_Minutes</th>\n",
              "      <th>Rating</th>\n",
              "      <th>Score</th>\n",
              "      <th>Popularity</th>\n",
              "      <th>Favorites</th>\n",
              "      <th>Genre_Themes</th>\n",
              "    </tr>\n",
              "  </thead>\n",
              "  <tbody>\n",
              "    <tr>\n",
              "      <th>0</th>\n",
              "      <td>16498</td>\n",
              "      <td>Shingeki no Kyojin</td>\n",
              "      <td>Attack on Titan</td>\n",
              "      <td>TV</td>\n",
              "      <td>Normal</td>\n",
              "      <td>New</td>\n",
              "      <td>Others</td>\n",
              "      <td>Manga</td>\n",
              "      <td>24.0</td>\n",
              "      <td>R - 17+ (violence &amp; profanity)</td>\n",
              "      <td>8.531</td>\n",
              "      <td>1</td>\n",
              "      <td>155695</td>\n",
              "      <td>[Action, Drama, Gore, Military, Survival]</td>\n",
              "    </tr>\n",
              "    <tr>\n",
              "      <th>1</th>\n",
              "      <td>1535</td>\n",
              "      <td>Death Note</td>\n",
              "      <td>Death Note</td>\n",
              "      <td>TV</td>\n",
              "      <td>Normal</td>\n",
              "      <td>New</td>\n",
              "      <td>Madhouse</td>\n",
              "      <td>Manga</td>\n",
              "      <td>23.0</td>\n",
              "      <td>R - 17+ (violence &amp; profanity)</td>\n",
              "      <td>8.621</td>\n",
              "      <td>2</td>\n",
              "      <td>159701</td>\n",
              "      <td>[Supernatural, Suspense, Mystery, Psychologica...</td>\n",
              "    </tr>\n",
              "    <tr>\n",
              "      <th>2</th>\n",
              "      <td>5114</td>\n",
              "      <td>Fullmetal Alchemist: Brotherhood</td>\n",
              "      <td>Fullmetal Alchemist Brotherhood</td>\n",
              "      <td>TV</td>\n",
              "      <td>Long</td>\n",
              "      <td>New</td>\n",
              "      <td>Bones</td>\n",
              "      <td>Manga</td>\n",
              "      <td>24.0</td>\n",
              "      <td>R - 17+ (violence &amp; profanity)</td>\n",
              "      <td>9.131</td>\n",
              "      <td>3</td>\n",
              "      <td>207772</td>\n",
              "      <td>[Action, Adventure, Drama, Fantasy, Military]</td>\n",
              "    </tr>\n",
              "    <tr>\n",
              "      <th>3</th>\n",
              "      <td>30276</td>\n",
              "      <td>One Punch Man</td>\n",
              "      <td>One Punch Man</td>\n",
              "      <td>TV</td>\n",
              "      <td>Very Short</td>\n",
              "      <td>New</td>\n",
              "      <td>Madhouse</td>\n",
              "      <td>Unknown</td>\n",
              "      <td>24.0</td>\n",
              "      <td>R - 17+ (violence &amp; profanity)</td>\n",
              "      <td>8.511</td>\n",
              "      <td>4</td>\n",
              "      <td>59651</td>\n",
              "      <td>[Action, Comedy, Parody, Super Power]</td>\n",
              "    </tr>\n",
              "    <tr>\n",
              "      <th>4</th>\n",
              "      <td>11757</td>\n",
              "      <td>Sword Art Online</td>\n",
              "      <td>Sword Art Online</td>\n",
              "      <td>TV</td>\n",
              "      <td>Normal</td>\n",
              "      <td>New</td>\n",
              "      <td>A-1 Pictures</td>\n",
              "      <td>Light novel</td>\n",
              "      <td>23.0</td>\n",
              "      <td>PG-13 - Teens 13 or older</td>\n",
              "      <td>7.201</td>\n",
              "      <td>5</td>\n",
              "      <td>64997</td>\n",
              "      <td>[Action, Adventure, Fantasy, Romance, Love Pol...</td>\n",
              "    </tr>\n",
              "  </tbody>\n",
              "</table>\n",
              "</div>\n",
              "      <button class=\"colab-df-convert\" onclick=\"convertToInteractive('df-011a058d-43fe-445d-85f2-ea726149f15a')\"\n",
              "              title=\"Convert this dataframe to an interactive table.\"\n",
              "              style=\"display:none;\">\n",
              "        \n",
              "  <svg xmlns=\"http://www.w3.org/2000/svg\" height=\"24px\"viewBox=\"0 0 24 24\"\n",
              "       width=\"24px\">\n",
              "    <path d=\"M0 0h24v24H0V0z\" fill=\"none\"/>\n",
              "    <path d=\"M18.56 5.44l.94 2.06.94-2.06 2.06-.94-2.06-.94-.94-2.06-.94 2.06-2.06.94zm-11 1L8.5 8.5l.94-2.06 2.06-.94-2.06-.94L8.5 2.5l-.94 2.06-2.06.94zm10 10l.94 2.06.94-2.06 2.06-.94-2.06-.94-.94-2.06-.94 2.06-2.06.94z\"/><path d=\"M17.41 7.96l-1.37-1.37c-.4-.4-.92-.59-1.43-.59-.52 0-1.04.2-1.43.59L10.3 9.45l-7.72 7.72c-.78.78-.78 2.05 0 2.83L4 21.41c.39.39.9.59 1.41.59.51 0 1.02-.2 1.41-.59l7.78-7.78 2.81-2.81c.8-.78.8-2.07 0-2.86zM5.41 20L4 18.59l7.72-7.72 1.47 1.35L5.41 20z\"/>\n",
              "  </svg>\n",
              "      </button>\n",
              "      \n",
              "  <style>\n",
              "    .colab-df-container {\n",
              "      display:flex;\n",
              "      flex-wrap:wrap;\n",
              "      gap: 12px;\n",
              "    }\n",
              "\n",
              "    .colab-df-convert {\n",
              "      background-color: #E8F0FE;\n",
              "      border: none;\n",
              "      border-radius: 50%;\n",
              "      cursor: pointer;\n",
              "      display: none;\n",
              "      fill: #1967D2;\n",
              "      height: 32px;\n",
              "      padding: 0 0 0 0;\n",
              "      width: 32px;\n",
              "    }\n",
              "\n",
              "    .colab-df-convert:hover {\n",
              "      background-color: #E2EBFA;\n",
              "      box-shadow: 0px 1px 2px rgba(60, 64, 67, 0.3), 0px 1px 3px 1px rgba(60, 64, 67, 0.15);\n",
              "      fill: #174EA6;\n",
              "    }\n",
              "\n",
              "    [theme=dark] .colab-df-convert {\n",
              "      background-color: #3B4455;\n",
              "      fill: #D2E3FC;\n",
              "    }\n",
              "\n",
              "    [theme=dark] .colab-df-convert:hover {\n",
              "      background-color: #434B5C;\n",
              "      box-shadow: 0px 1px 3px 1px rgba(0, 0, 0, 0.15);\n",
              "      filter: drop-shadow(0px 1px 2px rgba(0, 0, 0, 0.3));\n",
              "      fill: #FFFFFF;\n",
              "    }\n",
              "  </style>\n",
              "\n",
              "      <script>\n",
              "        const buttonEl =\n",
              "          document.querySelector('#df-011a058d-43fe-445d-85f2-ea726149f15a button.colab-df-convert');\n",
              "        buttonEl.style.display =\n",
              "          google.colab.kernel.accessAllowed ? 'block' : 'none';\n",
              "\n",
              "        async function convertToInteractive(key) {\n",
              "          const element = document.querySelector('#df-011a058d-43fe-445d-85f2-ea726149f15a');\n",
              "          const dataTable =\n",
              "            await google.colab.kernel.invokeFunction('convertToInteractive',\n",
              "                                                     [key], {});\n",
              "          if (!dataTable) return;\n",
              "\n",
              "          const docLinkHtml = 'Like what you see? Visit the ' +\n",
              "            '<a target=\"_blank\" href=https://colab.research.google.com/notebooks/data_table.ipynb>data table notebook</a>'\n",
              "            + ' to learn more about interactive tables.';\n",
              "          element.innerHTML = '';\n",
              "          dataTable['output_type'] = 'display_data';\n",
              "          await google.colab.output.renderOutput(dataTable, element);\n",
              "          const docLink = document.createElement('div');\n",
              "          docLink.innerHTML = docLinkHtml;\n",
              "          element.appendChild(docLink);\n",
              "        }\n",
              "      </script>\n",
              "    </div>\n",
              "  </div>\n",
              "  "
            ]
          },
          "metadata": {},
          "execution_count": 46
        }
      ],
      "source": [
        "\n",
        "animeb.head(5)"
      ]
    },
    {
      "cell_type": "code",
      "execution_count": null,
      "metadata": {
        "colab": {
          "base_uri": "https://localhost:8080/"
        },
        "id": "Se4yo2CnGHUH",
        "outputId": "1951e695-e4b5-4588-daa2-43762a38d8f6"
      },
      "outputs": [
        {
          "output_type": "stream",
          "name": "stderr",
          "text": [
            "<ipython-input-47-e7f7fa56602f>:45: FutureWarning: In a future version of pandas all arguments of DataFrame.drop except for the argument 'labels' will be keyword-only.\n",
            "  animeb.drop('index',1, inplace = True)\n",
            "<ipython-input-47-e7f7fa56602f>:47: FutureWarning: In a future version of pandas all arguments of DataFrame.drop except for the argument 'labels' will be keyword-only.\n",
            "  anime.drop('index',1, inplace  =True)\n"
          ]
        },
        {
          "output_type": "execute_result",
          "data": {
            "text/plain": [
              "((19432, 128), <19432x91 sparse matrix of type '<class 'numpy.float64'>'\n",
              " \twith 138594 stored elements in Compressed Sparse Row format>)"
            ]
          },
          "metadata": {},
          "execution_count": 47
        }
      ],
      "source": [
        "num_pipeline = Pipeline([\n",
        "                ('imputer', SimpleImputer(strategy='median')),\n",
        "                ('scaler', StandardScaler()),\n",
        "])\n",
        "\n",
        "cat_pipeline = Pipeline([\n",
        "                ('ordinal_encoder', OrdinalEncoder()),\n",
        "                ('simple_imputer', SimpleImputer(strategy='most_frequent')),\n",
        "                ('categorical_encoder', OneHotEncoder()),\n",
        "])\n",
        "\n",
        "\n",
        "\n",
        "list_pipeline = Pipeline([\n",
        "                ('count_vectoriser', CountVectorizer(analyzer=set)),\n",
        "\n",
        "])\n",
        "animeb.head()\n",
        "\n",
        "\n",
        "\n",
        "\n",
        "preprocess_pipeline = ColumnTransformer([\n",
        "                        ('num_columns',num_pipeline, ['Duration_Minutes', 'Score']),\n",
        "                        ('cat_columns', cat_pipeline, ['Type', 'Studios', 'Source', 'Rating','Episodes', 'Start_Aired']),\n",
        "                        ('list_columns', list_pipeline, 'Genre_Themes'),\n",
        "])\n",
        "\n",
        "\n",
        "\n",
        "# For combined predictions above pipeline wasnt working very well, On experimenting with different columns it was found\n",
        "# that below pipeline is working very well with the Combined Predictions.\n",
        "preprocess_pipeline_2 = ColumnTransformer([\n",
        "                            ('num_columns',num_pipeline, ['Score']),\n",
        "                            ('cat_columns', cat_pipeline, [ 'Type','Episodes', 'Rating']),\n",
        "                            ('list_columns', list_pipeline, 'Genre_Themes'),\n",
        "                            ])\n",
        "\n",
        "\n",
        "\n",
        "\n",
        "\n",
        "\n",
        "animeb = animeb.reset_index()\n",
        "animeb.drop('index',1, inplace = True)\n",
        "anime = anime.reset_index()\n",
        "anime.drop('index',1, inplace  =True)\n",
        "train = preprocess_pipeline.fit_transform(animeb)\n",
        "train_combined = preprocess_pipeline_2.fit_transform(animeb)\n",
        "train_combined.shape\n",
        "train.shape, train_combined"
      ]
    },
    {
      "cell_type": "code",
      "execution_count": null,
      "metadata": {
        "colab": {
          "base_uri": "https://localhost:8080/",
          "height": 74
        },
        "id": "tpehmSf5P3t9",
        "outputId": "3b94ccec-7639-4479-d206-8b9baf2eff2b"
      },
      "outputs": [
        {
          "output_type": "execute_result",
          "data": {
            "text/plain": [
              "NearestNeighbors(metric='cosine', n_neighbors=100)"
            ],
            "text/html": [
              "<style>#sk-container-id-2 {color: black;background-color: white;}#sk-container-id-2 pre{padding: 0;}#sk-container-id-2 div.sk-toggleable {background-color: white;}#sk-container-id-2 label.sk-toggleable__label {cursor: pointer;display: block;width: 100%;margin-bottom: 0;padding: 0.3em;box-sizing: border-box;text-align: center;}#sk-container-id-2 label.sk-toggleable__label-arrow:before {content: \"▸\";float: left;margin-right: 0.25em;color: #696969;}#sk-container-id-2 label.sk-toggleable__label-arrow:hover:before {color: black;}#sk-container-id-2 div.sk-estimator:hover label.sk-toggleable__label-arrow:before {color: black;}#sk-container-id-2 div.sk-toggleable__content {max-height: 0;max-width: 0;overflow: hidden;text-align: left;background-color: #f0f8ff;}#sk-container-id-2 div.sk-toggleable__content pre {margin: 0.2em;color: black;border-radius: 0.25em;background-color: #f0f8ff;}#sk-container-id-2 input.sk-toggleable__control:checked~div.sk-toggleable__content {max-height: 200px;max-width: 100%;overflow: auto;}#sk-container-id-2 input.sk-toggleable__control:checked~label.sk-toggleable__label-arrow:before {content: \"▾\";}#sk-container-id-2 div.sk-estimator input.sk-toggleable__control:checked~label.sk-toggleable__label {background-color: #d4ebff;}#sk-container-id-2 div.sk-label input.sk-toggleable__control:checked~label.sk-toggleable__label {background-color: #d4ebff;}#sk-container-id-2 input.sk-hidden--visually {border: 0;clip: rect(1px 1px 1px 1px);clip: rect(1px, 1px, 1px, 1px);height: 1px;margin: -1px;overflow: hidden;padding: 0;position: absolute;width: 1px;}#sk-container-id-2 div.sk-estimator {font-family: monospace;background-color: #f0f8ff;border: 1px dotted black;border-radius: 0.25em;box-sizing: border-box;margin-bottom: 0.5em;}#sk-container-id-2 div.sk-estimator:hover {background-color: #d4ebff;}#sk-container-id-2 div.sk-parallel-item::after {content: \"\";width: 100%;border-bottom: 1px solid gray;flex-grow: 1;}#sk-container-id-2 div.sk-label:hover label.sk-toggleable__label {background-color: #d4ebff;}#sk-container-id-2 div.sk-serial::before {content: \"\";position: absolute;border-left: 1px solid gray;box-sizing: border-box;top: 0;bottom: 0;left: 50%;z-index: 0;}#sk-container-id-2 div.sk-serial {display: flex;flex-direction: column;align-items: center;background-color: white;padding-right: 0.2em;padding-left: 0.2em;position: relative;}#sk-container-id-2 div.sk-item {position: relative;z-index: 1;}#sk-container-id-2 div.sk-parallel {display: flex;align-items: stretch;justify-content: center;background-color: white;position: relative;}#sk-container-id-2 div.sk-item::before, #sk-container-id-2 div.sk-parallel-item::before {content: \"\";position: absolute;border-left: 1px solid gray;box-sizing: border-box;top: 0;bottom: 0;left: 50%;z-index: -1;}#sk-container-id-2 div.sk-parallel-item {display: flex;flex-direction: column;z-index: 1;position: relative;background-color: white;}#sk-container-id-2 div.sk-parallel-item:first-child::after {align-self: flex-end;width: 50%;}#sk-container-id-2 div.sk-parallel-item:last-child::after {align-self: flex-start;width: 50%;}#sk-container-id-2 div.sk-parallel-item:only-child::after {width: 0;}#sk-container-id-2 div.sk-dashed-wrapped {border: 1px dashed gray;margin: 0 0.4em 0.5em 0.4em;box-sizing: border-box;padding-bottom: 0.4em;background-color: white;}#sk-container-id-2 div.sk-label label {font-family: monospace;font-weight: bold;display: inline-block;line-height: 1.2em;}#sk-container-id-2 div.sk-label-container {text-align: center;}#sk-container-id-2 div.sk-container {/* jupyter's `normalize.less` sets `[hidden] { display: none; }` but bootstrap.min.css set `[hidden] { display: none !important; }` so we also need the `!important` here to be able to override the default hidden behavior on the sphinx rendered scikit-learn.org. See: https://github.com/scikit-learn/scikit-learn/issues/21755 */display: inline-block !important;position: relative;}#sk-container-id-2 div.sk-text-repr-fallback {display: none;}</style><div id=\"sk-container-id-2\" class=\"sk-top-container\"><div class=\"sk-text-repr-fallback\"><pre>NearestNeighbors(metric=&#x27;cosine&#x27;, n_neighbors=100)</pre><b>In a Jupyter environment, please rerun this cell to show the HTML representation or trust the notebook. <br />On GitHub, the HTML representation is unable to render, please try loading this page with nbviewer.org.</b></div><div class=\"sk-container\" hidden><div class=\"sk-item\"><div class=\"sk-estimator sk-toggleable\"><input class=\"sk-toggleable__control sk-hidden--visually\" id=\"sk-estimator-id-2\" type=\"checkbox\" checked><label for=\"sk-estimator-id-2\" class=\"sk-toggleable__label sk-toggleable__label-arrow\">NearestNeighbors</label><div class=\"sk-toggleable__content\"><pre>NearestNeighbors(metric=&#x27;cosine&#x27;, n_neighbors=100)</pre></div></div></div></div></div>"
            ]
          },
          "metadata": {},
          "execution_count": 48
        }
      ],
      "source": [
        "train.shape\n",
        "K_model_cos = NearestNeighbors(n_neighbors=100, metric='cosine')\n",
        "K_model_man2 = NearestNeighbors(n_neighbors=100, metric='l2')\n",
        "K_model_cos.fit(train)\n",
        "K_model_man2.fit(train)\n",
        "K_combined_cos = NearestNeighbors(n_neighbors= 100, metric='cosine' )\n",
        "K_combined_cos.fit(train_combined)\n",
        "# K_model_man2.get_params()"
      ]
    },
    {
      "cell_type": "code",
      "execution_count": null,
      "metadata": {
        "colab": {
          "base_uri": "https://localhost:8080/"
        },
        "id": "k0ECPE5EZZbM",
        "outputId": "914cf96b-114a-47fa-d1ba-c5c7bd73f081"
      },
      "outputs": [
        {
          "output_type": "execute_result",
          "data": {
            "text/plain": [
              "(['Attack on Titan',\n",
              "  'Attack on Titan Season 3 Part 2',\n",
              "  'Attack on Titan The Final Season',\n",
              "  'Attack on Titan The Final Season Part 2',\n",
              "  'Attack on Titan Season 3',\n",
              "  'Attack on Titan Season 2',\n",
              "  'Kingdom Season 4',\n",
              "  'Kingdom Season 3',\n",
              "  'Attack on Titan OAD',\n",
              "  'Kingdom Season 2',\n",
              "  'The Heroic Legend of Arslan',\n",
              "  'Mazinger Edition Z The Impact!',\n",
              "  'Kingdom',\n",
              "  'Fullmetal Alchemist Brotherhood',\n",
              "  \"JoJo's Bizarre Adventure Stardust Crusaders - Battle in Egypt\",\n",
              "  'Code Geass Lelouch of the Rebellion R2',\n",
              "  'Seraph of the End Battle in Nagoya',\n",
              "  \"JoJo's Bizarre Adventure Golden Wind\",\n",
              "  'Demon Slayer Kimetsu no Yaiba',\n",
              "  \"JoJo's Bizarre Adventure\",\n",
              "  'Attack on Titan Since That Day',\n",
              "  'Initial D First Stage',\n",
              "  \"JoJo's Bizarre Adventure Diamond is Unbreakable\",\n",
              "  'Seraph of the End Vampire Reign',\n",
              "  \"JoJo's Bizarre Adventure Stardust Crusaders\",\n",
              "  'Vinland Saga',\n",
              "  'Major S3',\n",
              "  'Code Geass Lelouch of the Rebellion',\n",
              "  'Banana Fish',\n",
              "  'Rainbow',\n",
              "  'Initial D Fifth Stage',\n",
              "  'Pumpkin Scissors',\n",
              "  'Terra e... (TV)',\n",
              "  'Hajime No Ippo The Fighting!',\n",
              "  'Major S6',\n",
              "  'The Rose of Versailles',\n",
              "  \"Tomorrow's Joe 2\",\n",
              "  'Mobile Suit Gundam 00',\n",
              "  'Gunslinger Girl Il Teatrino',\n",
              "  'Mobile Suit Gundam 00 Second Season',\n",
              "  'Major S4',\n",
              "  'Demon Slayer Kimetsu no Yaiba Entertainment District Arc',\n",
              "  'Major S5',\n",
              "  'Jujutsu Kaisen',\n",
              "  'Akame ga Kill!',\n",
              "  'Parasyte The Maxim',\n",
              "  'Wangan Midnight',\n",
              "  'Inuyashiki Last Hero',\n",
              "  'Hellsing Ultimate',\n",
              "  'Assassination Classroom Second Season',\n",
              "  'Phantom Requiem for the Phantom',\n",
              "  'Berserk',\n",
              "  'Golden Kamuy Season 3',\n",
              "  'Gangsta.',\n",
              "  'Demon Slayer Kimetsu no Yaiba Mugen Train Arc',\n",
              "  'Ghost in the Shell Stand Alone Complex',\n",
              "  'Fullmetal Alchemist',\n",
              "  'The Future Diary',\n",
              "  'Skip Beat!',\n",
              "  'Dorohedoro',\n",
              "  'Star Blazers Space Battleship Yamato 2199',\n",
              "  'Hanasaku Iroha Blossoms for Tomorrow',\n",
              "  'Golden Kamuy Season 2',\n",
              "  'Fate/Zero Season 2',\n",
              "  'Legends of the Dark King A Fist of the North Star Story',\n",
              "  'Bakuman Season 3',\n",
              "  'Mobile Suit Gundam Iron-Blooded Orphans',\n",
              "  'Black Jack 21',\n",
              "  'A Certain Scientific Railgun T',\n",
              "  'Terraformars',\n",
              "  'Black Lagoon The Second Barrage',\n",
              "  'Ghost in the Shell Stand Alone Complex 2nd GIG',\n",
              "  'Initial D Second Stage',\n",
              "  'Initial D Fourth Stage',\n",
              "  'Knights of Sidonia Battle for Planet Nine',\n",
              "  'Assassination Classroom',\n",
              "  'Hyouge Mono',\n",
              "  '86 Eighty-Six Part 2',\n",
              "  'Fighting Spirit New Challenger',\n",
              "  'Great Teacher Onizuka',\n",
              "  'Bakuman Season 2',\n",
              "  'Gurren Lagann',\n",
              "  'Death Note',\n",
              "  'Fate/stay night [Unlimited Blade Works] Season 2',\n",
              "  'A Certain Scientific Railgun S',\n",
              "  'Black Lagoon',\n",
              "  'Beck Mongolian Chop Squad',\n",
              "  'Knights of Sidonia',\n",
              "  'Fate/Zero',\n",
              "  'Tokyo Revengers',\n",
              "  'The Promised Neverland',\n",
              "  'Legend of the Galactic Heroes Gaiden (1999)',\n",
              "  'Major S1',\n",
              "  'Magi The Kingdom of Magic',\n",
              "  'Gintama Season 4',\n",
              "  'Samurai Champloo',\n",
              "  'Major S2',\n",
              "  'Attack on Titan No Regrets',\n",
              "  'Spy x Family',\n",
              "  'Bakuman.'],\n",
              " ['Attack on Titan',\n",
              "  'Attack on Titan Season 2',\n",
              "  'Attack on Titan Season 3',\n",
              "  'Attack on Titan The Final Season Part 2',\n",
              "  'Attack on Titan The Final Season',\n",
              "  'Attack on Titan Season 3 Part 2',\n",
              "  'Attack on Titan OAD',\n",
              "  'Kingdom Season 2',\n",
              "  'Kingdom Season 4',\n",
              "  'Kingdom Season 3',\n",
              "  'The Heroic Legend of Arslan',\n",
              "  'Mazinger Edition Z The Impact!',\n",
              "  'Kingdom',\n",
              "  'Seraph of the End Battle in Nagoya',\n",
              "  'Attack on Titan Since That Day',\n",
              "  \"JoJo's Bizarre Adventure\",\n",
              "  'Seraph of the End Vampire Reign',\n",
              "  'Demon Slayer Kimetsu no Yaiba',\n",
              "  \"JoJo's Bizarre Adventure Golden Wind\",\n",
              "  \"JoJo's Bizarre Adventure Stardust Crusaders - Battle in Egypt\",\n",
              "  'Initial D First Stage',\n",
              "  'Major S3',\n",
              "  'Pumpkin Scissors',\n",
              "  \"JoJo's Bizarre Adventure Stardust Crusaders\",\n",
              "  'Initial D Fifth Stage',\n",
              "  'Gunslinger Girl Il Teatrino',\n",
              "  'Fullmetal Alchemist Brotherhood',\n",
              "  'Terra e... (TV)',\n",
              "  'Wangan Midnight',\n",
              "  'Akame ga Kill!',\n",
              "  \"JoJo's Bizarre Adventure Diamond is Unbreakable\",\n",
              "  'Banana Fish',\n",
              "  'Rainbow',\n",
              "  'Hajime No Ippo The Fighting!',\n",
              "  'Vinland Saga',\n",
              "  'The Rose of Versailles',\n",
              "  'Major S6',\n",
              "  'Major S4',\n",
              "  'Code Geass Lelouch of the Rebellion R2',\n",
              "  'Gangsta.',\n",
              "  'Mobile Suit Gundam 00',\n",
              "  'Mobile Suit Gundam 00 Second Season',\n",
              "  'Inuyashiki Last Hero',\n",
              "  'Legends of the Dark King A Fist of the North Star Story',\n",
              "  'Phantom Requiem for the Phantom',\n",
              "  'Hanasaku Iroha Blossoms for Tomorrow',\n",
              "  'Black Jack 21',\n",
              "  'Assassination Classroom Second Season',\n",
              "  'Golden Kamuy Season 3',\n",
              "  'Major S5',\n",
              "  'Jujutsu Kaisen',\n",
              "  'Demon Slayer Kimetsu no Yaiba Mugen Train Arc',\n",
              "  'Code Geass Lelouch of the Rebellion',\n",
              "  \"Tomorrow's Joe 2\",\n",
              "  'Parasyte The Maxim',\n",
              "  'Terraformars',\n",
              "  'The Future Diary',\n",
              "  'Knights of Sidonia Battle for Planet Nine',\n",
              "  'Golden Kamuy Season 2',\n",
              "  'Demon Slayer Kimetsu no Yaiba Entertainment District Arc',\n",
              "  'A Certain Scientific Railgun T',\n",
              "  'Black Lagoon The Second Barrage',\n",
              "  'Initial D Second Stage',\n",
              "  'Initial D Fourth Stage',\n",
              "  'Fullmetal Alchemist',\n",
              "  'Assassination Classroom',\n",
              "  'Skip Beat!',\n",
              "  'Knights of Sidonia',\n",
              "  'Dorohedoro',\n",
              "  'Mobile Suit Gundam Iron-Blooded Orphans',\n",
              "  'Black Lagoon',\n",
              "  'A Certain Scientific Railgun S',\n",
              "  'Ga-Rei-Zero',\n",
              "  'Hyouge Mono',\n",
              "  'Jormungand Season 2 Perfect Order',\n",
              "  'Fist of the North Star 2',\n",
              "  'Golden Kamuy',\n",
              "  'The File of Young Kindaichi Returns',\n",
              "  'Michiko & Hatchin',\n",
              "  'Broken Blade',\n",
              "  'Jormungand',\n",
              "  'Tokyo Ghoul',\n",
              "  'Bakuman Season 3',\n",
              "  'Saiyuuki Gaiden',\n",
              "  'Fate/Zero Season 2',\n",
              "  'Tentai Senshi Sunred 2nd Season',\n",
              "  'Ghost in the Shell Stand Alone Complex',\n",
              "  'Fighting Spirit New Challenger',\n",
              "  'Attack on Titan No Regrets',\n",
              "  'Bakuman Season 2',\n",
              "  'Star Blazers Space Battleship Yamato 2199',\n",
              "  'Genshiken 2',\n",
              "  'Fate/stay night [Unlimited Blade Works] Season 2',\n",
              "  'Armed Librarians The Book of Bantorra',\n",
              "  'Hellsing Ultimate',\n",
              "  'Beck Mongolian Chop Squad',\n",
              "  'Fate/Zero',\n",
              "  \"Yu-Gi-Oh! 5D's\",\n",
              "  'Initial D Final Stage',\n",
              "  'Magi The Kingdom of Magic'])"
            ]
          },
          "metadata": {},
          "execution_count": 49
        }
      ],
      "source": [
        "#change the anime name in below line it will search in the dataframe with the name and convert that row into vector and\n",
        "# show nearest neighbors for that Anime (firstly recommendations from cosine metrixs is shown then recomm. with l2 metrics)\n",
        "sample = train.toarray()[animeb.English_Title[animeb['English_Title'].str.lower().str.contains('attack on titan')].index[0]]\n",
        "sample\n",
        "tree = KDTree(train.toarray())\n",
        "distances_kd, indices_kd = tree.query([sample], k=100)\n",
        "distances_cos, indices_cos = K_model_cos.kneighbors([sample])\n",
        "distances_man, indices_man = K_model_man2.kneighbors([sample])\n",
        "# distances_cos, indices_cos =\n",
        "cosine_pred = animeb['English_Title'].iloc[indices_cos.squeeze()[0:]].tolist()\n",
        "man2_pred = animeb['English_Title'].iloc[indices_kd.squeeze()[0:]].tolist()\n",
        "cosine_preds = animeb[['English_Title','Genre_Themes']].iloc[indices_cos.squeeze()]\n",
        "man2_preds = animeb[['English_Title','Genre_Themes']].iloc[indices_kd.squeeze()]\n",
        "cosine_preds\n",
        "cosine_pred, man2_pred"
      ]
    },
    {
      "cell_type": "code",
      "execution_count": null,
      "metadata": {
        "colab": {
          "base_uri": "https://localhost:8080/",
          "height": 409
        },
        "id": "qTqQkv4kS6wH",
        "outputId": "fb9a84d7-9dad-489f-d4b0-e1cced450c6c"
      },
      "outputs": [
        {
          "output_type": "display_data",
          "data": {
            "text/plain": [
              "<Figure size 1080x432 with 1 Axes>"
            ],
            "image/png": "[encoded data removed]"
          },
          "metadata": {
            "needs_background": "light"
          }
        }
      ],
      "source": [
        "plt.figure(figsize=(15,6))\n",
        "X = np.arange(0, 100, 1)\n",
        "plt.scatter(X ,distances_cos.squeeze()*10, c='g')\n",
        "plt.scatter(X, distances_man.squeeze(), c='b')\n",
        "\n",
        "plt.title('Distances Comparison of Cosine, manhattan metric')\n",
        "plt.xlabel('X axis',fontsize=15)\n",
        "plt.ylabel('Distances',fontsize=15)\n",
        "plt.legend(['Cosine Predictions', 'Manhattan distance 2'], fontsize=15)\n",
        "\n",
        "plt.show()"
      ]
    },
    {
      "cell_type": "code",
      "execution_count": null,
      "metadata": {
        "id": "hwC_noAgmbxp",
        "colab": {
          "base_uri": "https://localhost:8080/",
          "height": 236
        },
        "outputId": "1f12cdde-ec5d-4fbf-f6c6-628bd2b3963c"
      },
      "outputs": [
        {
          "output_type": "error",
          "ename": "NameError",
          "evalue": "ignored",
          "traceback": [
            "\u001b[0;31m---------------------------------------------------------------------------\u001b[0m",
            "\u001b[0;31mNameError\u001b[0m                                 Traceback (most recent call last)",
            "\u001b[0;32m<ipython-input-1-ec95495c188a>\u001b[0m in \u001b[0;36m<cell line: 4>\u001b[0;34m()\u001b[0m\n\u001b[1;32m      2\u001b[0m \u001b[0;32mimport\u001b[0m \u001b[0mjson\u001b[0m\u001b[0;34m\u001b[0m\u001b[0;34m\u001b[0m\u001b[0m\n\u001b[1;32m      3\u001b[0m \u001b[0;32mimport\u001b[0m \u001b[0mjoblib\u001b[0m\u001b[0;34m\u001b[0m\u001b[0;34m\u001b[0m\u001b[0m\n\u001b[0;32m----> 4\u001b[0;31m \u001b[0manimec\u001b[0m \u001b[0;34m=\u001b[0m \u001b[0manimeb\u001b[0m\u001b[0;34m.\u001b[0m\u001b[0mcopy\u001b[0m\u001b[0;34m(\u001b[0m\u001b[0;34m)\u001b[0m\u001b[0;34m\u001b[0m\u001b[0;34m\u001b[0m\u001b[0m\n\u001b[0m\u001b[1;32m      5\u001b[0m \u001b[0mget_ipython\u001b[0m\u001b[0;34m(\u001b[0m\u001b[0;34m)\u001b[0m\u001b[0;34m.\u001b[0m\u001b[0msystem\u001b[0m\u001b[0;34m(\u001b[0m\u001b[0;34m'pip install memory-profiler'\u001b[0m\u001b[0;34m)\u001b[0m\u001b[0;34m\u001b[0m\u001b[0;34m\u001b[0m\u001b[0m\n\u001b[1;32m      6\u001b[0m \u001b[0;32mfrom\u001b[0m \u001b[0mmemory_profiler\u001b[0m \u001b[0;32mimport\u001b[0m \u001b[0mmemory_usage\u001b[0m \u001b[0;31m# I have used this to check the max. RAM usage that is taken by the system\u001b[0m\u001b[0;34m\u001b[0m\u001b[0;34m\u001b[0m\u001b[0m\n",
            "\u001b[0;31mNameError\u001b[0m: name 'animeb' is not defined"
          ]
        }
      ],
      "source": [
        "input = ['to love ru', 'high school dxd']\n",
        "import json\n",
        "import joblib\n",
        "animec = animeb.copy()\n",
        " # I have used this to check the max. RAM usage that is taken by the system\n",
        "                                         # during the process of Recommending the Anime\n",
        "\n",
        "# We have to reduce the model file size as we have to use it and load it in thebackend of our website and we would want\n",
        "# that our model and other important files uses less space so that it can be easily loaded and rapidly proccesed in our\n",
        "# RAM, so we save our big files with parquet format which is a very compact format , and over that we are zipping it too\n",
        "# for the anime dataset as it is very large file so it reduces the size by very significant amount.\n",
        "anime.to_parquet('final_anime_list.parquet', compression='GZIP')\n",
        "joblib.dump(K_model_cos, 'K_model_cos.sav')\n",
        "joblib.dump(K_combined_cos, 'K_combined_cos.sav')\n",
        "joblib.dump(train, 'train.sav')\n",
        "joblib.dump(train_combined, 'train_combined.sav')\n",
        "t= joblib.load('train.sav')\n",
        "tc= joblib.load('train_combined.sav')\n",
        "kmc = joblib.load('K_model_cos.sav')\n",
        "kcc = joblib.load('K_combined_cos.sav')\n",
        "fin_anime = pd.read_parquet('final_anime_list.parquet')\n",
        "\n",
        "def recommend(input=\"demon slayer|jujutsu kaisen\"): # Input will be separated by '|' and then mid points of the\n",
        "    input = (input.lower()).split('|')              # corresponding vector representations will be found coresponding to\n",
        "                                                    # which Final Recommendations will be given as output.\n",
        "    if len(input)==1:\n",
        "        sample = t.toarray()[anime.index[anime['English'].str.lower().str.contains(input[0])]][0]\n",
        "        distances_cos, indices_cos = kmc.kneighbors([sample])\n",
        "        results = fin_anime.iloc[indices_cos.squeeze()[0:]]\n",
        "        results.drop(['Japanese'], axis=1, inplace=True)\n",
        "        results['Distances'] = distances_cos.squeeze()[0:]\n",
        "        return json.loads(results.to_json(orient='records'))\n",
        "\n",
        "    else:\n",
        "        samples=[]\n",
        "        for name in input:\n",
        "            samples.append(tc.toarray()[animeb.index[animeb['English_Title'].to_numpy().str.lower().str.contains(name)]][0])\n",
        "        sample_mean = [sum(sub_list) / len(sub_list) for sub_list in zip(*samples)] # finding mean of all nodes and\n",
        "        distances_cos_comb, indices_cos_comb = kcc.kneighbors([sample_mean])        # treating it as a midpoint\n",
        "        results = fin_anime.iloc[indices_cos_comb.squeeze()[0:]]\n",
        "        results.drop(['Japanese'], axis=1, inplace=True)\n",
        "        results['Distances'] = distances_cos_comb.squeeze()[0:]\n",
        "        return json.loads(results.to_json(orient='records'))\n",
        "\n",
        "\n",
        "\n",
        "\n"
      ]
    },
    {
      "cell_type": "code",
      "execution_count": null,
      "metadata": {
        "colab": {
          "base_uri": "https://localhost:8080/"
        },
        "id": "mVqVF6hHY57E",
        "outputId": "15b8061e-e1f7-405c-c5a9-2e20675d36ee"
      },
      "outputs": [
        {
          "output_type": "stream",
          "name": "stderr",
          "text": [
            "<ipython-input-51-9ee0ca94ffad>:41: SettingWithCopyWarning: \n",
            "A value is trying to be set on a copy of a slice from a DataFrame\n",
            "\n",
            "See the caveats in the documentation: https://pandas.pydata.org/pandas-docs/stable/user_guide/indexing.html#returning-a-view-versus-a-copy\n",
            "  results.drop(['Japanese'], axis=1, inplace=True)\n",
            "<ipython-input-51-9ee0ca94ffad>:42: SettingWithCopyWarning: \n",
            "A value is trying to be set on a copy of a slice from a DataFrame.\n",
            "Try using .loc[row_indexer,col_indexer] = value instead\n",
            "\n",
            "See the caveats in the documentation: https://pandas.pydata.org/pandas-docs/stable/user_guide/indexing.html#returning-a-view-versus-a-copy\n",
            "  results['Distances'] = distances_cos_comb.squeeze()[0:]\n",
            "<ipython-input-51-9ee0ca94ffad>:41: SettingWithCopyWarning: \n",
            "A value is trying to be set on a copy of a slice from a DataFrame\n",
            "\n",
            "See the caveats in the documentation: https://pandas.pydata.org/pandas-docs/stable/user_guide/indexing.html#returning-a-view-versus-a-copy\n",
            "  results.drop(['Japanese'], axis=1, inplace=True)\n",
            "<ipython-input-51-9ee0ca94ffad>:42: SettingWithCopyWarning: \n",
            "A value is trying to be set on a copy of a slice from a DataFrame.\n",
            "Try using .loc[row_indexer,col_indexer] = value instead\n",
            "\n",
            "See the caveats in the documentation: https://pandas.pydata.org/pandas-docs/stable/user_guide/indexing.html#returning-a-view-versus-a-copy\n",
            "  results['Distances'] = distances_cos_comb.squeeze()[0:]\n",
            "<ipython-input-51-9ee0ca94ffad>:41: SettingWithCopyWarning: \n",
            "A value is trying to be set on a copy of a slice from a DataFrame\n",
            "\n",
            "See the caveats in the documentation: https://pandas.pydata.org/pandas-docs/stable/user_guide/indexing.html#returning-a-view-versus-a-copy\n",
            "  results.drop(['Japanese'], axis=1, inplace=True)\n",
            "<ipython-input-51-9ee0ca94ffad>:42: SettingWithCopyWarning: \n",
            "A value is trying to be set on a copy of a slice from a DataFrame.\n",
            "Try using .loc[row_indexer,col_indexer] = value instead\n",
            "\n",
            "See the caveats in the documentation: https://pandas.pydata.org/pandas-docs/stable/user_guide/indexing.html#returning-a-view-versus-a-copy\n",
            "  results['Distances'] = distances_cos_comb.squeeze()[0:]\n"
          ]
        },
        {
          "output_type": "execute_result",
          "data": {
            "text/plain": [
              "506.09765625"
            ]
          },
          "metadata": {},
          "execution_count": 52
        }
      ],
      "source": [
        "results_json = recommend('Demon Slayer|Monster')\n",
        "!pip install memory-profiler\n",
        "from memory_profiler import memory_usage\n",
        "results_df = pd.json_normalize(results_json)\n",
        "# results_df['English'].tolist()\n",
        "results_json\n",
        "results_df['English'].tolist()\n",
        "max(memory_usage(proc=recommend))"
      ]
    },
    {
      "cell_type": "code",
      "execution_count": null,
      "metadata": {
        "id": "-x0TFCMVkCdx",
        "colab": {
          "base_uri": "https://localhost:8080/"
        },
        "outputId": "ead7bd90-0508-4818-c3bc-8a559c60696d"
      },
      "outputs": [
        {
          "output_type": "stream",
          "name": "stdout",
          "text": [
            "<class 'pandas.core.frame.DataFrame'>\n",
            "RangeIndex: 19432 entries, 0 to 19431\n",
            "Data columns (total 29 columns):\n",
            " #   Column            Non-Null Count  Dtype  \n",
            "---  ------            --------------  -----  \n",
            " 0   ID                19432 non-null  int64  \n",
            " 1   Title             19432 non-null  object \n",
            " 2   Synonyms          19432 non-null  object \n",
            " 3   Japanese          19432 non-null  object \n",
            " 4   English           19432 non-null  object \n",
            " 5   Synopsis          19432 non-null  object \n",
            " 6   Type              19432 non-null  object \n",
            " 7   Episodes          18891 non-null  float64\n",
            " 8   Status            19432 non-null  object \n",
            " 9   Start_Aired       19432 non-null  object \n",
            " 10  End_Aired         19432 non-null  object \n",
            " 11  Premiered         19432 non-null  object \n",
            " 12  Broadcast         19432 non-null  object \n",
            " 13  Producers         19432 non-null  object \n",
            " 14  Licensors         19432 non-null  object \n",
            " 15  Studios           19432 non-null  object \n",
            " 16  Source            19432 non-null  object \n",
            " 17  Genres            19432 non-null  object \n",
            " 18  Themes            19432 non-null  object \n",
            " 19  Demographics      19432 non-null  object \n",
            " 20  Duration_Minutes  18837 non-null  float64\n",
            " 21  Rating            19432 non-null  object \n",
            " 22  Score             13363 non-null  float64\n",
            " 23  Scored_Users      13363 non-null  float64\n",
            " 24  Ranked            17509 non-null  float64\n",
            " 25  Popularity        19432 non-null  int64  \n",
            " 26  Members           19432 non-null  int64  \n",
            " 27  Favorites         19432 non-null  int64  \n",
            " 28  Image_link        19265 non-null  object \n",
            "dtypes: float64(5), int64(4), object(20)\n",
            "memory usage: 4.3+ MB\n"
          ]
        }
      ],
      "source": [
        "# plt.figure(figsize=(10, 6))\n",
        "# plt.scatter(np.arange(0, 100, 1), distances, c='orange')\n",
        "# plt.ylabel('Distances', size=20)\n",
        "# plt.scatter(np.arange(0, 100, 1), distances_combined, c='g')\n",
        "# plt.legend(['naive', 'updated'], fontsize=15)\n",
        "# plt.show()\n",
        "anime[['ID', 'English', 'Type', 'Premiered', 'Image_link']].to_json(\"anime_list.json\", orient=\"records\" )\n",
        "anime.info()"
      ]
    },
    {
      "cell_type": "code",
      "execution_count": null,
      "metadata": {
        "id": "Wa5dStWI_zuu"
      },
      "outputs": [],
      "source": [
        "# anime.isna().sum()\n",
        "# anime[['Duration_Minutes', 'Score', 'Scored_Users', 'Ranked']]\n"
      ]
    }
  ],
  "metadata": {
    "colab": {
      "provenance": [],
      "mount_file_id": "1BWSSHctfmle2oSobSCrulP9NcE6VDKoM",
      "authorship_tag": "ABX9TyOU2c0RKukn2KSFIxIsj3eg"
    },
    "gpuClass": "standard",
    "kernelspec": {
      "display_name": "Python 3",
      "name": "python3"
    },
    "language_info": {
      "name": "python"
    }
  },
  "nbformat": 4,
  "nbformat_minor": 0
}